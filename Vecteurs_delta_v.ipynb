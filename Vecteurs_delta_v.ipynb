{
 "cells": [
  {
   "cell_type": "markdown",
   "metadata": {
    "deletable": false,
    "editable": false
   },
   "source": [
    "<div style=\"text-align:center;\"> <h2> Tracé de vecteurs variation de vitesses en Python</h2></div>"
   ]
  },
  {
   "cell_type": "markdown",
   "metadata": {
    "deletable": false,
    "editable": false
   },
   "source": [
    "### Objectifs :\n",
    "* Sommer et soustraire des vecteurs et calculer les composantes du vecteur résultant.\n",
    "* A partir des composantes $v_x$ et $v_x$ des différents vecteurs vitesses d'un point, calculer les composantes du vecteur variation de vitesse $\\Delta \\vec v$ en Python.\n",
    "* Appliquer le programme au jeu de données du TP précédent.\n",
    "### I - Côté maths : Additionner ou soustraire des vecteurs.\n",
    "<br>\n",
    "<div class=\"row\">\n",
    "  <div class=\"col-md-8\" markdown=\"1\" border=\"1\">\n",
    "  <a href=\"https://phet.colorado.edu/sims/html/vector-addition/latest/vector-addition_fr.html\" target=\"_blank\"><img src=\"https://github.com/dblanqui/1PC/blob/master/images/somme_vecteurs.png?raw=true\" /></a>\n",
    " \n",
    "  </div>\n",
    "  <div class=\"col-md-4\" markdown=\"1\">\n",
    "      <h4>Travail à réaliser :</h4>\n",
    "      <ol><br>\n",
    "  <li>Utiliser cette <a href=\"https://phet.colorado.edu/sims/html/vector-addition/latest/vector-addition_fr.html\" target=\"_blank\">animation</a> et choisir la partie Equation. Afficher à droite le menu vecteurs de base pour faire varier les composantes des vecteurs $\\vec a$ et $\\vec b$. Le vecteur résultant est tracé automatiquement.</li><br>\n",
    "       <li>Choisir l'addition de deux vecteurs : menu $\\vec a + \\vec b = \\vec c$. Donner l'expression des composantes $c_x$ et $c_y$du vecteur $\\vec c$ résultant de la somme des vecteurs $\\vec a$ et $\\vec b$ en fonction des composantes $a_x$,$a_y$,$b_x$ et $b_y$ de ces vecteurs.\n",
    "       </li><br>\n",
    "      </ol>\n",
    "          </div>\n",
    " </div>\n",
    "    <ol start=\"3\">\n",
    "       <li>Choisir la soustraction de deux vecteurs : menu $\\vec a - \\vec b = \\vec c$. Donner l'expression des composantes $c_x$ et $c_y$ du vecteur $\\vec c$ résultant de la soustraction des vecteurs $\\vec a$ et $\\vec b$  en fonction des composantes $a_x$,$a_y$,$b_x$ et $b_y$ de ces vecteurs.\n",
    "       </li><br>\n",
    "          <li>On souhaite écrire une fonction Python qui renvoi les composantes $c_x$ et $c_y$ d'un vecteur $\\vec c = \\vec a - \\vec b$. Les composantes des vecteurs $\\vec a$ et $\\vec b$ sont passés en paramètres de la fonction. Compléter le code ci-dessous et l'exécuter. </li>\n",
    "      </ol>\n",
    "  \n",
    "\n"
   ]
  },
  {
   "cell_type": "code",
   "execution_count": null,
   "metadata": {},
   "outputs": [],
   "source": [
    "def soustraction_a_b(ax,ay,bx,by):\n",
    "# Retourne les composantes cx et cy du vecteur résultant de la différence de deux vecteurs de composantes \n",
    "# passées en paramètres.\n",
    "# Compléter les deux lignes suivantes\n",
    "    cx=\n",
    "    cy=\n",
    "    return(cx,cy)"
   ]
  },
  {
   "cell_type": "markdown",
   "metadata": {
    "deletable": false,
    "editable": false
   },
   "source": [
    "Exécuter la cellule ci-dessous pour tester votre fonction. Si des tests sont en erreur (couleur rouge) modifier votre fonction et recommencer. Si tout est vert, votre code est probablement correct."
   ]
  },
  {
   "cell_type": "code",
   "execution_count": null,
   "metadata": {},
   "outputs": [],
   "source": [
    "from pc.tests import exo_soustraction_a_b\n",
    "exo_soustraction_a_b.correction(soustraction_a_b)"
   ]
  },
  {
   "cell_type": "markdown",
   "metadata": {
    "deletable": false,
    "editable": false
   },
   "source": [
    "### II- Tracer des vecteurs variations de vitesses pour un mouvement circulaire\n",
    "<br>Le programme ci-dessous permet de représenter le vecteur variation de vitesses $\\Delta \\vec v$ en différents points d’une trajectoire d'une balle en rotation autour d'un point fixe. Les positions du système, ainsi que les instants t ont été extraits d’un pointage vidéo.\n",
    "\n",
    "<div class=\"row\">\n",
    "  <div class=\"col-md-6\" markdown=\"1\" border=\"1\">\n",
    "  <img src=\"https://github.com/dblanqui/1PC/blob/master/images/trajectoire_circulaire.png?raw=true\" width=\"80%\" />\n",
    " \n",
    "  </div>\n",
    "  <div class=\"col-md-6\" markdown=\"1\">\n",
    "      <h4>Travail à réaliser :</h4>\n",
    "      <ol><br>\n",
    "          <li>Compléter les lignes permettant de calculer $v_x$ et $v_y$ pour les données de pointage et de les ranger dans les listes Vx et Vy.</li><br>\n",
    "          <li>Insérer à la place du commentaire existant l'instruction Pyton permettant de tracer les vecteurs variations de vitesses $\\Delta \\vec v$ pour chacun des points en utilisant l'instruction plt.arrow. Se servir du TP précédent.<br><br>\n",
    "              <strong><u>Rappel pour commande plt.arrow(x, y, dx, dy, \\*\\*kwargs) :</u></strong> <br>\n",
    "Cette fonction dessine une flèche partant du point de coordonnées x et y vers le point de coordonnées x+dx et y+dy). Les paramètres suivant de cette fonction sont des paramètres de mise en forme de la flèche (longueur de la tête, épaisseur de la tête..)\n",
    "          </li><br>\n",
    "          <li>Tester votre programme.</li>\n",
    "      </ol>\n",
    "  </div>\n",
    "</div>"
   ]
  },
  {
   "cell_type": "code",
   "execution_count": null,
   "metadata": {},
   "outputs": [],
   "source": [
    "import matplotlib.pyplot as plt\n",
    "\n",
    "t=[0.000,0.080,0.160,0.240,0.320,0.400,0.480,0.560,0.640,0.720,0.800,0.880,0.960,1.040,1.120,1.200,1.280,1.360,1.440,1.520,1.600,1.680,1.760,1.840,1.920]\n",
    "x=[0.056,-0.005,-0.064,-0.123,-0.170,-0.207,-0.228,-0.231,-0.218,-0.186,-0.144,-0.090,-0.031,0.030,0.088,0.141,0.184,0.217,0.235,0.241,0.230,0.209,0.174,0.131,0.077]\n",
    "y=[0.226,0.231,0.222,0.196,0.155,0.103,0.044,-0.019,-0.078,-0.133,-0.178,-0.211,-0.228,-0.230,-0.215,-0.188,-0.149,-0.101,-0.048,0.007,0.063,0.114,0.158,0.194,0.219]\n",
    "\n",
    "#Calcul des coordonnées Vx : a compléter\n",
    "Vx=[]\n",
    "\n",
    "\n",
    "#Calcul des coordonnées Vy : a compléter\n",
    "Vy=[]\n",
    "\n",
    "\n",
    "\n",
    "#préparation de la zone graphique\n",
    "plt.figure(figsize=(15,15))\n",
    "plt.title(\"Représentation du vecteur vitesse\")\n",
    "\n",
    "plt.xlim(-0.3,0.3) \n",
    "plt.ylim(-0.3,0.3)\n",
    "plt.grid()\n",
    "\n",
    "plt.xlabel('$x$ (m)')\n",
    "plt.ylabel('$y$ (m)')\n",
    "#tracé des points de la trajectoire\n",
    "plt.plot(x,y,'ro--')\n",
    "plt.plot(0,0,'ro')\n",
    "#tracé des vecteurs vitesse avec un facteur d'échelle\n",
    "for i in range(1,len(t)-1): #on commence à l'indice 1\n",
    "    # ligne pour tracer les vecteurs avec la commande plt.arrow à insérer.\n",
    "#Légende\n",
    "plt.text(0.1,0.35,\"Vecteurs : 1m sur le graphique $\\leftrightarrow$ 20 m/s\", color=\"blue\")\n",
    "plt.show()"
   ]
  },
  {
   "cell_type": "code",
   "execution_count": null,
   "metadata": {},
   "outputs": [],
   "source": []
  },
  {
   "cell_type": "code",
   "execution_count": null,
   "metadata": {},
   "outputs": [],
   "source": []
  }
 ],
 "metadata": {
  "celltoolbar": "Éditer les Méta-Données",
  "kernelspec": {
   "display_name": "Python 3",
   "language": "python",
   "name": "python3"
  },
  "language_info": {
   "codemirror_mode": {
    "name": "ipython",
    "version": 3
   },
   "file_extension": ".py",
   "mimetype": "text/x-python",
   "name": "python",
   "nbconvert_exporter": "python",
   "pygments_lexer": "ipython3",
   "version": "3.7.3"
  }
 },
 "nbformat": 4,
 "nbformat_minor": 4
}
