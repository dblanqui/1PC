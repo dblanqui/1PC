{
 "cells": [
  {
   "cell_type": "markdown",
   "metadata": {},
   "source": [
    "<div style=\"text-align:center;\"> <h2> Tracé de vecteurs vitesses en Python</h2></div>"
   ]
  },
  {
   "cell_type": "markdown",
   "metadata": {},
   "source": [
    "#### Objectifs :\n",
    "* Décomposer un vecteur en ces composantes dans un repère orthonormé.\n",
    "* Exprimer les normes $v_x$ et $v_x$ des composantes $\\vec v_x$ et $\\vec v_y$ du vecteur vitesse $\\vec v$ en Python.\n",
    "* Appliquer le programme à deux jeux de données et adapter l'affichage à ces données.\n",
    "\n",
    "#### I - Côté maths : les composantes d'un vecteur.\n",
    "<br>\n",
    "<div class=\"row\">\n",
    "  <div class=\"col-md-8\" markdown=\"1\" border=\"1\">\n",
    "  <a href=\"https://phet.colorado.edu/sims/html/vector-addition/latest/vector-addition_fr.html\" target=\"_blank\"><img src=\"https://github.com/dblanqui/1PC/blob/master/images/vecteurs.png?raw=true\" /></a>\n",
    " \n",
    "  </div>\n",
    "  <div class=\"col-md-4\" markdown=\"1\">\n",
    "      <h4>Travail à réaliser :</h4>\n",
    "      <ol><br>\n",
    "  <li>Utiliser cette <a href=\"https://phet.colorado.edu/sims/html/vector-addition/latest/vector-addition_fr.html\" target=\"_blank\">animation</a> et choisir explore 2D. Afficher un vecteur $\\vec a$, le modifier et déterminer comment calculer ses composantes $\\vec a_x$ et $\\vec a_y$.</li><br>\n",
    "          <li>On souhaite écrire une fonction Python qui renvoi les normes $a_x$ et $a_y$ d'un vecteur $\\vec a$ = $\\overrightarrow{AB}$. Les coordonnées des points A et B sont passés en paramètres de la fonction. Compléter le code ci-dessous et l'exécuter. </li>\n",
    "      </ol>\n",
    "  </div>\n",
    "</div>\n"
   ]
  },
  {
   "cell_type": "code",
   "execution_count": null,
   "metadata": {},
   "outputs": [],
   "source": [
    "def normes_a(xA,yA,xB,yB):\n",
    "    #Compléter les deux lignes suivantes\n",
    "    ax=1\n",
    "    ay=1\n",
    "    return(ax,ay)"
   ]
  },
  {
   "cell_type": "markdown",
   "metadata": {},
   "source": [
    "Exécuter la cellule ci-dessous pour tester votre fonction. Si des tests sont en erreurs modifier votre fonction et recommencer."
   ]
  },
  {
   "cell_type": "code",
   "execution_count": null,
   "metadata": {},
   "outputs": [],
   "source": [
    "from pc.tests import exo_normes_a\n",
    "exo_normes_a.correction(normes_a)"
   ]
  },
  {
   "cell_type": "markdown",
   "metadata": {},
   "source": [
    "#### II- Tracer des vecteurs vitesses d'un mouvement rectiligne\n",
    "<br>Le programme ci-dessous permet de représenter le vecteur en différents points d’une trajectoire. Les positions du système, ainsi que les instants t ont été extraits d’un pointage.\n",
    "\n",
    "<div class=\"row\">\n",
    "  <div class=\"col-md-7\" markdown=\"1\" border=\"1\">\n",
    "  <img src=\"https://github.com/dblanqui/1PC/blob/master/images/voiture.png?raw=true\" width=\"100%\" />\n",
    " \n",
    "  </div>\n",
    "  <div class=\"col-md-5\" markdown=\"1\">\n",
    "      <h4>Travail à réaliser :</h4>\n",
    "      <ol><br>\n",
    "          <li>Repérer dans le programme les lignes correspondant aux données extraites du pointage.</li>\n",
    "          <li>Compléter la ligne permettant de calculer $v_x$ pour les données de pointage .</li>\n",
    "          <li>Repérer la (ou les) ligne(s) permettant de représenter les vecteurs vitesse </li>\n",
    "          <li>Extraire de cette (ou ces) ligne(s) le facteur de représentation des vecteurs vitesse.</li>\n",
    "          <li>Proposer une modification du programme pour avoir un facteur de représentation des vecteurs vitesse de 1/15.</li>\n",
    "      </ol>\n",
    "  </div>\n",
    "</div>"
   ]
  },
  {
   "cell_type": "code",
   "execution_count": null,
   "metadata": {},
   "outputs": [],
   "source": [
    "import matplotlib.pyplot as plt\n",
    "x=[0,4.05,8.10,12.0,15.96]\n",
    "y=[0,0,0,0,0]\n",
    "t=[0,0.26,0.52,0.78,1.04]\n",
    "\n",
    "#Calcul des coordonnées Vx\n",
    "Vx=[] #création d'une liste vide pour afficher les valeurs de vx calculés pour chaque point\n",
    "for i in range(len(x)-1) :\n",
    "    Vxi= #A compléter\n",
    "    Vx.append(Vxi) #Ajout de la valeur vx à la liste\n",
    "\n",
    "#préparation de la zone graphique\n",
    "plt.grid()\n",
    "plt.title(\"Représentation du vecteur vitesse\")\n",
    "plt.xlabel('$x$ (m)')\n",
    "plt.ylabel('$y$ (m)')\n",
    "\n",
    "#tracé des points de la trajectoire\n",
    "plt.plot(x,y,'ro--')\n",
    "\n",
    "#tracé des vecteurs vitesse avec un facteur d'échelle\n",
    "for i in range(len(t)-1):\n",
    "    plt.arrow(x[i],y[i],Vx[i]/10,0,head_width=0.005,head_length=0.3,length_includes_head=True,color=\"blue\")\n",
    "    plt.text(x[i]+0.05,0.005,r\"$\\vec{v}$\"+str(i+1),color=\"blue\")\n",
    "\n",
    "    #Légende\n",
    "plt.text(1,-0.04,\"Echelle 1 cm $\\leftrightarrow$ 10 cm/s\", color=\"blue\")\n",
    "plt.show()\n"
   ]
  },
  {
   "cell_type": "markdown",
   "metadata": {},
   "source": [
    "#### III- Tracer des vecteurs vitesses d'un mouvement curviligne\n",
    "<br>Le programme ci-dessous permet de représenter le vecteur en différents points d’une trajectoire. Les positions du système, ainsi que les instants t ont été extraits d’un pointage lors du lancer vertical d'un ballon par une gymnaste en mouvement.\n",
    "\n",
    "<div class=\"row\">\n",
    "  <div class=\"col-md-6\" markdown=\"1\" border=\"1\">\n",
    "  <img src=\"https://github.com/dblanqui/1PC/blob/master/images/ballon.png?raw=true\" width=\"80%\" />\n",
    " \n",
    "  </div>\n",
    "  <div class=\"col-md-6\" markdown=\"1\">\n",
    "      <h4>Travail à réaliser :</h4>\n",
    "      <ol><br>\n",
    "          <li>Compléter les lignes permettant de calculer $v_y$ pour les données de pointage et de les ranger dans la liste Vy.</li>\n",
    "          <li>Tester votre programme.</li>\n",
    "      </ol>\n",
    "  </div>\n",
    "</div>"
   ]
  },
  {
   "cell_type": "code",
   "execution_count": null,
   "metadata": {},
   "outputs": [],
   "source": [
    "x=[0.495,0.673,0.879,1.065,1.262,1.439,1.617,1.841,2.14,2.364,2.542,2.729,2.944,3.121,3.318,3.495]\n",
    "y=[1.682,2.056,2.439,2.738,2.991,3.168,3.308,3.402,3.402,3.308,3.168,2.991,2.729,2.43,2.056,1.673]\n",
    "t=[0,0.08,0.16,0.24,0.32,0.4,0.48,0.56,0.64,0.72,0.80,0.88,0.96,1.04,1.12,1.2]\n",
    "#Calcul des coordonnées Vx et Vy\n",
    "Vx=[]\n",
    "for i in range(len(x)-1) :\n",
    "    Vxi=(x[i+1]-x[i])/(t[i+1]-t[i])\n",
    "    Vx.append(Vxi)\n",
    "Vy=[]\n",
    "# A compléter\n",
    "\n",
    "\n",
    "\n",
    "\n",
    "#préparation de la zone graphique\n",
    "plt.figure(figsize=(10,10))\n",
    "plt.title(\"Représentation du vecteur vitesse\")\n",
    "\n",
    "plt.xlim(0,4) \n",
    "plt.ylim(0,4)\n",
    "plt.grid()\n",
    "\n",
    "plt.xlabel('$x$ (m)')\n",
    "plt.ylabel('$y$ (m)')\n",
    "#tracé des points de la trajectoire\n",
    "plt.plot(x,y,'ro--')\n",
    "#tracé des vecteurs vitesse avec un facteur d'échelle\n",
    "for i in range(len(t)-1):\n",
    "    plt.arrow(x[i],y[i],Vx[i]/20,Vy[i]/20,head_width=0.03, head_length=0.03,length_includes_head=True,color=\"blue\")\n",
    "    plt.text(x[i]+0.05,y[i],r\"$\\vec{v}_{\"+str(i+1)+\"}$\",color=\"blue\")\n",
    "#Légende\n",
    "plt.text(0.1,0.8,\"Echelle 1 cm $\\leftrightarrow$ 20 cm/s\", color=\"blue\")\n",
    "plt.show()\n"
   ]
  }
 ],
 "metadata": {
  "kernelspec": {
   "display_name": "Python 3",
   "language": "python",
   "name": "python3"
  },
  "language_info": {
   "codemirror_mode": {
    "name": "ipython",
    "version": 3
   },
   "file_extension": ".py",
   "mimetype": "text/x-python",
   "name": "python",
   "nbconvert_exporter": "python",
   "pygments_lexer": "ipython3",
   "version": "3.7.3"
  }
 },
 "nbformat": 4,
 "nbformat_minor": 4
}
