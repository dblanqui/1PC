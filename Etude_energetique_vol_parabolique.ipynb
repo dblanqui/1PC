{
 "cells": [
  {
   "cell_type": "markdown",
   "metadata": {},
   "source": [
    "## Vol parabolique : Etude énergétique"
   ]
  },
  {
   "cell_type": "markdown",
   "metadata": {},
   "source": [
    "Le programme suivant contient les données de pointage de la bille lors de son vol parabolique.\n",
    "Compléter le programme entre les lignes 20 et 24 pour calculer les valeurs et remplir les listes : vx,vy,v,Ec,Epp,Em<br>\n",
    "Aide : pour élever une grandeur en Python à une puissance n on utilise : ** <br>\n",
    "Tester les exemples dans la cellule ci-dessous :"
   ]
  },
  {
   "cell_type": "code",
   "execution_count": null,
   "metadata": {},
   "outputs": [],
   "source": [
    "print('le carré de 3 est :', 3**2)\n",
    "print('la racine carrée de 9 est :', 9**0.5)"
   ]
  },
  {
   "cell_type": "code",
   "execution_count": null,
   "metadata": {},
   "outputs": [],
   "source": [
    "import matplotlib.pyplot as plt\n",
    "\n",
    "#Altitude, durée et vitesse trouvées\n",
    "x=[0.0000,0.0656,0.1346,0.2014,0.2716,0.3395,0.4086,0.4777,0.5432,0.6123,0.6802,0.7481,0.8160,0.8816,0.9483,1.0162,1.0806,1.1438,1.2059,1.2668]\n",
    "y=[0.4589,0.5784,0.6779,0.7668,0.8347,0.8898,0.9237,0.9471,0.9518,0.9448,0.9179,0.8769,0.8195,0.7469,0.6603,0.5573,0.4402,0.3091,0.1639,0.0117]\n",
    "t=[0.0000,0.0400,0.0800,0.1200,0.1600,0.2000,0.2400,0.2800,0.3200,0.3600,0.4000,0.4400,0.4800,0.5200,0.5600,0.6000,0.6400,0.6800,0.7200,0.7600]\n",
    "m=0.012\n",
    "g=9.81\n",
    "# Créations des listes pour accueillir les données calculées:\n",
    "vx=[]\n",
    "vy=[]\n",
    "v=[]\n",
    "Ec=[]\n",
    "Epp=[]\n",
    "Em=[]\n",
    "\n",
    "#Calculs des différentes valeurs des grandeurs et stockage des résultats dans les listes\n",
    "for i in range (len(x)-1) :\n",
    "    vxi=((x[i+1]-x[i])/(t[i+1]-t[i]))\n",
    "    vx.append(vxi)\n",
    "    \n",
    "\n",
    "\n",
    "#tracé de la courbe\n",
    "plt.figure(figsize=(10,10))\n",
    "plt.grid()\n",
    "plt.title(\"Evolution des énergies cinétique, potentielle de pesanteur et mécanique\")\n",
    "plt.xlabel('$t$ (s)')\n",
    "plt.ylabel('Epp (J),Ec(J),Em(J)')\n",
    "# Dans les trracés ci-dessous  t[:-1] permet de prendre les valeurs de t sauf la dernière pour\n",
    "#que les listes des abscisses et ordonnées aient même longueur.\n",
    "plt.plot(t[:-1],Epp,'r--o',label='$\\mathcal{E}_{pp}$')\n",
    "plt.plot(t[:-1],Ec,'k--x',label='$\\mathcal{E}_{c}$')\n",
    "plt.plot(t[:-1],Em,'g--x',label='$\\mathcal{E}_{m}$')\n",
    "plt.legend()\n",
    "plt.show()"
   ]
  },
  {
   "cell_type": "code",
   "execution_count": null,
   "metadata": {},
   "outputs": [],
   "source": []
  }
 ],
 "metadata": {
  "kernelspec": {
   "display_name": "Python 3",
   "language": "python",
   "name": "python3"
  },
  "language_info": {
   "codemirror_mode": {
    "name": "ipython",
    "version": 3
   },
   "file_extension": ".py",
   "mimetype": "text/x-python",
   "name": "python",
   "nbconvert_exporter": "python",
   "pygments_lexer": "ipython3",
   "version": "3.7.3"
  }
 },
 "nbformat": 4,
 "nbformat_minor": 4
}
