{
 "cells": [
  {
   "cell_type": "markdown",
   "metadata": {
    "deletable": false,
    "editable": false
   },
   "source": [
    "<div style=\"text-align:center;\"> <h2> Tracé de vecteurs vitesses en Python</h2></div>"
   ]
  },
  {
   "cell_type": "markdown",
   "metadata": {},
   "source": [
    "Méthode de dérivée à droite pour v dans le programme suivant"
   ]
  },
  {
   "cell_type": "code",
   "execution_count": null,
   "metadata": {},
   "outputs": [],
   "source": [
    "import matplotlib.pyplot as plt\n",
    "import numpy as np\n",
    "#données pointage\n",
    "xp=[0.778,0.713,0.646,0.577,0.510,0.440,0.371,0.303,0.234,0.168,0.099,0.032,-0.036,-0.105,-0.172,-0.240,-0.306,-0.371,-0.435,-0.497,-0.558]\n",
    "yp=[-0.002,0.128,0.250,0.350,0.436,0.505,0.559,0.596,0.619,0.624,0.615,0.588,0.548,0.490,0.417,0.330,0.227,0.109,-0.021,-0.166,-0.322]\n",
    "tp=[0.000,0.040,0.080,0.120,0.160,0.200,0.240,0.280,0.320,0.360,0.400,0.440,0.480,0.520,0.560,0.600,0.640,0.680,0.720,0.760,0.800]\n",
    "\n",
    "#données retenues pour le tracé\n",
    "intpts=1\n",
    "xt=[]\n",
    "yt=[]\n",
    "tt=[]\n",
    "\n",
    "for i in range (0,len(xp),intpts):\n",
    "  xt.append(xp[i])  \n",
    "  yt.append(yp[i])\n",
    "  tt.append(tp[i])\n",
    "\n",
    "\n",
    "#Calcul des coordonnées Vx \n",
    "Vx=[]\n",
    "for i in range(len(xt)-1) :\n",
    "    Vxi=(xt[i+1]-xt[i])/(tt[i+1]-tt[i])\n",
    "    Vx.append(Vxi)\n",
    "\n",
    "#Calcul des coordonnées Vy \n",
    "Vy=[]\n",
    "for i in range(len(yt)-1) :\n",
    "    Vyi=(yt[i+1]-yt[i])/(tt[i+1]-tt[i])\n",
    "    Vy.append(Vyi)\n",
    "\n",
    "\n",
    "#préparation de la zone graphique\n",
    "plt.figure(figsize=(10,10))\n",
    "plt.title(\"Représentation du vecteur vitesse et accélération : méthode dérivée à droite\")\n",
    "\n",
    "plt.xlim(-0.75,1) \n",
    "plt.ylim(-1,1)\n",
    "plt.grid()\n",
    "\n",
    "plt.xlabel('$x$ (m)')\n",
    "plt.ylabel('$y$ (m)')\n",
    "#tracé des points de la trajectoire\n",
    "plt.plot(xt,yt,'ro--')\n",
    "normeV=[]\n",
    "normeA=[]\n",
    "#tracé des vecteurs vitesse avec un facteur d'échelle\n",
    "for i in range(len(Vx)):\n",
    "    vecteurV=plt.quiver(xt[i],yt[i],Vx[i]/10,Vy[i]/10,width=0.003,headwidth=10,scale=1,color='b',angles='xy', units='xy')\n",
    "    normeV.append((Vx[i]**2+Vy[i]**2)**0.5)\n",
    "for i in range(1,len(Vx)):    \n",
    "    vecteurA=plt.quiver(xt[i],yt[i],((Vx[i]-Vx[i-1])/(tt[i]-tt[i-1]))/20,((Vy[i]-Vy[i-1])/(tt[i]-tt[i-1]))/20,width=0.003,headwidth=10,scale=1,color='r',angles='xy', units='xy')\n",
    "    normeA.append((((Vx[i]-Vx[i-1])/(tt[i]-tt[i-1]))**2+((Vy[i]-Vy[i-1])/(tt[i]-tt[i-1]))**2)**0.5)\n",
    "#Légendes\n",
    "plt.quiverkey(vecteurA, 0.2, 0.8, 0.2,label='échelle 4 $m.s^{-2}$',coordinates='data')\n",
    "plt.quiverkey(vecteurV, 0.2, 0.9, 0.2,label='échelle 2 m/s',coordinates='data')\n",
    "\n",
    "print(\" gmoyen =\",np.mean(np.array(normeA)), \"m.s^-2\")\n",
    "print(\" écart-type =\",np.std(np.array(normeA)),\"m.s^-2\")\n",
    "plt.show()"
   ]
  },
  {
   "cell_type": "markdown",
   "metadata": {},
   "source": [
    "Méthode de dérivée centrée"
   ]
  },
  {
   "cell_type": "code",
   "execution_count": null,
   "metadata": {
    "scrolled": true
   },
   "outputs": [],
   "source": [
    "import matplotlib.pyplot as plt\n",
    "import numpy as np\n",
    "#données pointage\n",
    "xp=[0.778,0.713,0.646,0.577,0.510,0.440,0.371,0.303,0.234,0.168,0.099,0.032,-0.036,-0.105,-0.172,-0.240,-0.306,-0.371,-0.435,-0.497,-0.558]\n",
    "yp=[-0.002,0.128,0.250,0.350,0.436,0.505,0.559,0.596,0.619,0.624,0.615,0.588,0.548,0.490,0.417,0.330,0.227,0.109,-0.021,-0.166,-0.322]\n",
    "tp=[0.000,0.040,0.080,0.120,0.160,0.200,0.240,0.280,0.320,0.360,0.400,0.440,0.480,0.520,0.560,0.600,0.640,0.680,0.720,0.760,0.800]\n",
    "\n",
    "#données retenues pour le tracé\n",
    "intpts=1\n",
    "xt=[]\n",
    "yt=[]\n",
    "tt=[]\n",
    "\n",
    "for i in range (0,len(xp),intpts):\n",
    "  xt.append(xp[i])  \n",
    "  yt.append(yp[i])\n",
    "  tt.append(tp[i])\n",
    "\n",
    "\n",
    "#Calcul des coordonnées Vx \n",
    "Vx=[]\n",
    "for i in range(1,len(xt)-1) :\n",
    "    Vxi=(xt[i+1]-xt[i-1])/(tt[i+1]-tt[i-1])\n",
    "    Vx.append(Vxi)\n",
    "\n",
    "#Calcul des coordonnées Vy \n",
    "Vy=[]\n",
    "for i in range(1,len(yt)-1) :\n",
    "    Vyi=(yt[i+1]-yt[i-1])/(tt[i+1]-tt[i-1])\n",
    "    Vy.append(Vyi)\n",
    "\n",
    "#préparation de la zone graphique\n",
    "plt.figure(figsize=(10,10))\n",
    "plt.title(\"Représentation du vecteur vitesse et accélération : méthode centrée\")\n",
    "\n",
    "plt.xlim(-0.75,1) \n",
    "plt.ylim(-1,1)\n",
    "plt.grid()\n",
    "\n",
    "plt.xlabel('$x$ (m)')\n",
    "plt.ylabel('$y$ (m)')\n",
    "#tracé des points de la trajectoire\n",
    "plt.plot(xt,yt,'ro--')\n",
    "#tracé des vecteurs vitesse avec un facteur d'échelle\n",
    "normeV=[]\n",
    "normeA=[]\n",
    "for i in range(len(Vx)):\n",
    "    vecteurV=plt.quiver(xt[i+1],yt[i+1],Vx[i]/10,Vy[i]/10,width=0.003,headwidth=10,scale=1,color='b',angles='xy', units='xy')\n",
    "    normeV.append((Vx[i]**2+Vy[i]**2)**0.5)\n",
    "for i in range(len(Vx)-2):    \n",
    "    vecteurA=plt.quiver(xt[i+2],yt[i+2],((Vx[i+2]-Vx[i])/(tt[i+2]-tt[i]))/20,((Vy[i+2]-Vy[i])/(tt[i+2]-tt[i]))/20,width=0.003,headwidth=10,scale=1,color='r',angles='xy', units='xy')\n",
    "    normeA.append((((Vx[i+2]-Vx[i])/(tt[i+2]-tt[i]))**2+((Vy[i+2]-Vy[i])/(tt[i+2]-tt[i]))**2)**0.5)\n",
    "    \n",
    "#Légende\n",
    "plt.quiverkey(vecteurA, 0.2, 0.8, 0.2,label='échelle 4 $m.s^{-2}$',coordinates='data')\n",
    "plt.quiverkey(vecteurV, 0.2, 0.9, 0.2,label='échelle 2 m/s',coordinates='data')\n",
    "\n",
    "print(\" gmoyen =\",np.mean(np.array(normeA)), \"m.s^-2\")\n",
    "print(\" écart-type =\",np.std(np.array(normeA)),\"m.s^-2\")\n",
    "plt.show()"
   ]
  }
 ],
 "metadata": {
  "celltoolbar": "Éditer les Méta-Données",
  "kernelspec": {
   "display_name": "Python 3",
   "language": "python",
   "name": "python3"
  },
  "language_info": {
   "codemirror_mode": {
    "name": "ipython",
    "version": 3
   },
   "file_extension": ".py",
   "mimetype": "text/x-python",
   "name": "python",
   "nbconvert_exporter": "python",
   "pygments_lexer": "ipython3",
   "version": "3.7.3"
  }
 },
 "nbformat": 4,
 "nbformat_minor": 4
}
